{
 "cells": [
  {
   "cell_type": "code",
   "execution_count": 4,
   "metadata": {},
   "outputs": [],
   "source": [
    "import JPBenviroment as envv\n",
    "import JPBagents as age\n",
    "import utlity as ut"
   ]
  },
  {
   "cell_type": "code",
   "execution_count": 5,
   "metadata": {},
   "outputs": [
    {
     "name": "stdout",
     "output_type": "stream",
     "text": [
      "[nan, nan, nan, nan, nan, nan, nan, nan, nan, nan]\n"
     ]
    },
    {
     "ename": "TypeError",
     "evalue": "step() missing 1 required positional argument: 'CTR'",
     "output_type": "error",
     "traceback": [
      "\u001b[0;31m---------------------------------------------------------------------------\u001b[0m",
      "\u001b[0;31mTypeError\u001b[0m                                 Traceback (most recent call last)",
      "Cell \u001b[0;32mIn [5], line 9\u001b[0m\n\u001b[1;32m      7\u001b[0m \u001b[38;5;28;01mfor\u001b[39;00m i \u001b[38;5;129;01min\u001b[39;00m \u001b[38;5;28mrange\u001b[39m(\u001b[38;5;241m50\u001b[39m):\n\u001b[1;32m      8\u001b[0m     index_agent_pulled_arm \u001b[38;5;241m=\u001b[39m mab0\u001b[38;5;241m.\u001b[39mpull_arm()\n\u001b[0;32m----> 9\u001b[0m     reward \u001b[38;5;241m=\u001b[39m \u001b[43menv1\u001b[49m\u001b[38;5;241;43m.\u001b[39;49m\u001b[43mstep\u001b[49m\u001b[43m(\u001b[49m\u001b[43mco\u001b[49m\u001b[43m,\u001b[49m\u001b[43mag\u001b[49m\u001b[43m[\u001b[49m\u001b[43mindex_agent_pulled_arm\u001b[49m\u001b[43m]\u001b[49m\u001b[43m)\u001b[49m\n\u001b[1;32m     10\u001b[0m     mab0\u001b[38;5;241m.\u001b[39mupdate(reward[\u001b[38;5;241m0\u001b[39m])\n",
      "\u001b[0;31mTypeError\u001b[0m: step() missing 1 required positional argument: 'CTR'"
     ]
    }
   ],
   "source": [
    "ag = ut.agent_prices_and_bids(10)\n",
    "co = ut.competitors_prices_and_bids(10)\n",
    "env1 = envv.Enviroment(3,ut.allocation_mec,ut.user_gernator)\n",
    "maxrewards  = [ag[i].price - ag[i].bid for i in range(len(ag))]\n",
    "mab0 = age.UCB1Agent(len(ag),maxrewards)\n",
    "\n",
    "for i in range(50):\n",
    "    index_agent_pulled_arm = mab0.pull_arm()\n",
    "    reward = env1.step(co,ag[index_agent_pulled_arm])\n",
    "    mab0.update(reward[0])\n"
   ]
  },
  {
   "cell_type": "code",
   "execution_count": 6,
   "metadata": {},
   "outputs": [
    {
     "data": {
      "text/plain": [
       "array([inf, inf, inf, inf, inf, inf, inf, inf, inf, inf])"
      ]
     },
     "execution_count": 6,
     "metadata": {},
     "output_type": "execute_result"
    }
   ],
   "source": [
    "mab0.avg_reward"
   ]
  },
  {
   "cell_type": "code",
   "execution_count": 7,
   "metadata": {},
   "outputs": [
    {
     "ename": "TypeError",
     "evalue": "step() missing 1 required positional argument: 'CTR'",
     "output_type": "error",
     "traceback": [
      "\u001b[0;31m---------------------------------------------------------------------------\u001b[0m",
      "\u001b[0;31mTypeError\u001b[0m                                 Traceback (most recent call last)",
      "Cell \u001b[0;32mIn [7], line 9\u001b[0m\n\u001b[1;32m      7\u001b[0m \u001b[38;5;28;01mfor\u001b[39;00m i \u001b[38;5;129;01min\u001b[39;00m \u001b[38;5;28mrange\u001b[39m(\u001b[38;5;241m50\u001b[39m):\n\u001b[1;32m      8\u001b[0m     index_agent_pulled_arm \u001b[38;5;241m=\u001b[39m mab0\u001b[38;5;241m.\u001b[39mpull_arm()\n\u001b[0;32m----> 9\u001b[0m     reward \u001b[38;5;241m=\u001b[39m \u001b[43menv1\u001b[49m\u001b[38;5;241;43m.\u001b[39;49m\u001b[43mstep\u001b[49m\u001b[43m(\u001b[49m\u001b[43mco\u001b[49m\u001b[43m,\u001b[49m\u001b[43mag\u001b[49m\u001b[43m[\u001b[49m\u001b[43mindex_agent_pulled_arm\u001b[49m\u001b[43m]\u001b[49m\u001b[43m)\u001b[49m\n\u001b[1;32m     10\u001b[0m     mab0\u001b[38;5;241m.\u001b[39mupdate(reward)\n",
      "\u001b[0;31mTypeError\u001b[0m: step() missing 1 required positional argument: 'CTR'"
     ]
    }
   ],
   "source": [
    "ag = ut.agent_prices_and_bids(10)\n",
    "co = ut.competitors_prices_and_bids(10)\n",
    "env1 = envv.Enviroment(3,ut.allocation_mec,ut.user_gernator)\n",
    "maxrewards  = [ag[i].price - ag[i].bid for i in range(len(ag))]\n",
    "mab0 = age.Exp3Agent(len(ag),maxrewards,gamma=1)\n",
    "\n",
    "for i in range(50):\n",
    "    index_agent_pulled_arm = mab0.pull_arm()\n",
    "    reward = env1.step(co,ag[index_agent_pulled_arm])\n",
    "    mab0.update(reward)"
   ]
  },
  {
   "cell_type": "code",
   "execution_count": 5,
   "metadata": {},
   "outputs": [
    {
     "data": {
      "text/plain": [
       "array([-0., 10.,  0.,  0., 10., -0., -0.,  0., -0., 10.])"
      ]
     },
     "execution_count": 5,
     "metadata": {},
     "output_type": "execute_result"
    }
   ],
   "source": [
    "mab0.est_rewards"
   ]
  },
  {
   "cell_type": "code",
   "execution_count": 6,
   "metadata": {},
   "outputs": [
    {
     "data": {
      "text/plain": [
       "[Agent(id=0, price=3.03, bid=3.89),\n",
       " Agent(id=1, price=1.06, bid=3.61),\n",
       " Agent(id=2, price=5.0, bid=2.18),\n",
       " Agent(id=3, price=3.88, bid=3.72),\n",
       " Agent(id=4, price=3.88, bid=3.77),\n",
       " Agent(id=5, price=2.19, bid=2.6),\n",
       " Agent(id=6, price=2.47, bid=3.0),\n",
       " Agent(id=7, price=3.31, bid=2.44),\n",
       " Agent(id=8, price=0.5, bid=0.81),\n",
       " Agent(id=9, price=1.34, bid=4.81)]"
      ]
     },
     "execution_count": 6,
     "metadata": {},
     "output_type": "execute_result"
    }
   ],
   "source": [
    "ag"
   ]
  },
  {
   "cell_type": "code",
   "execution_count": 1,
   "metadata": {},
   "outputs": [],
   "source": [
    "we = [0.03726584,0.24238789,0.00609768,0.07363202,0.01645375,0.01533417,0.03726584,0.01865291,0.00931646,0.00037986,0.00037986,0.110518,0.00037986,0.01309502,0.04860153,0.00037986,0.02189168,0.13858734,0.06385573,0.15274196]"
   ]
  },
  {
   "cell_type": "code",
   "execution_count": 2,
   "metadata": {},
   "outputs": [
    {
     "data": {
      "text/plain": [
       "1.00721726"
      ]
     },
     "execution_count": 2,
     "metadata": {},
     "output_type": "execute_result"
    }
   ],
   "source": [
    "sum(we)"
   ]
  },
  {
   "cell_type": "code",
   "execution_count": 3,
   "metadata": {},
   "outputs": [],
   "source": [
    "lista =[1,2,3,4,5,6,7,8,9,10]\n",
    "\n",
    "valori = []\n",
    "\n",
    "valori.append(lista[0])\n",
    "for i in range(len(lista)-1):\n",
    "    valori.append(valori[i]+lista[i+1])"
   ]
  },
  {
   "cell_type": "code",
   "execution_count": 11,
   "metadata": {},
   "outputs": [
    {
     "data": {
      "text/plain": [
       "[[1, 2, 3], [3, 4, 5]]"
      ]
     },
     "execution_count": 11,
     "metadata": {},
     "output_type": "execute_result"
    }
   ],
   "source": [
    "vettore = [[1,2,3],[2,3,4]]\n",
    "vettore.pop(-1)\n",
    "vettore.append([3,4,5])\n",
    "vettore\n"
   ]
  }
 ],
 "metadata": {
  "kernelspec": {
   "display_name": "Python 3.9.6 64-bit",
   "language": "python",
   "name": "python3"
  },
  "language_info": {
   "codemirror_mode": {
    "name": "ipython",
    "version": 3
   },
   "file_extension": ".py",
   "mimetype": "text/x-python",
   "name": "python",
   "nbconvert_exporter": "python",
   "pygments_lexer": "ipython3",
   "version": "3.9.6"
  },
  "orig_nbformat": 4,
  "vscode": {
   "interpreter": {
    "hash": "31f2aee4e71d21fbe5cf8b01ff0e069b9275f58929596ceb00d14d90e3e16cd6"
   }
  }
 },
 "nbformat": 4,
 "nbformat_minor": 2
}
