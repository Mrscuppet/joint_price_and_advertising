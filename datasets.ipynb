{
 "cells": [
  {
   "cell_type": "code",
   "execution_count": 374,
   "metadata": {},
   "outputs": [],
   "source": [
    "#imports\n",
    "from optparse import Option\n",
    "from selenium import webdriver\n",
    "import pandas as pd\n",
    "import time\n",
    "from selenium.webdriver.common.by import By\n",
    "\n",
    "#BET365\n",
    "from time import sleep\n",
    "import undetected_chromedriver as uc\n",
    "\n",
    "#from ast import main\n",
    "import string\n",
    "from tkinter import END, Y\n",
    "from selenium import webdriver\n",
    "#from random_user_agent.user_agent import UserAgent\n",
    "#from random_user_agent.params import SoftwareName,OperatingSystem\n",
    "from selenium.webdriver.chrome.options import Options\n",
    "from selenium.webdriver.support.ui import WebDriverWait\n",
    "from selenium.webdriver.support import expected_conditions as EC\n",
    "\n",
    "\n",
    "import copy\n",
    "import datetime\n",
    "import os\n",
    "\n",
    "import random\n",
    "from collections import namedtuple\n",
    "import copy\n",
    "import numpy as np\n",
    "\n",
    "from requests import options\n",
    "from selenium import webdriver\n",
    "import chromedriver_autoinstaller\n",
    "from undetected_chromedriver import ChromeOptions\n",
    "\n",
    "from collections import namedtuple\n",
    "import json\n"
   ]
  },
  {
   "cell_type": "code",
   "execution_count": 375,
   "metadata": {},
   "outputs": [],
   "source": [
    "#Methods\n",
    "\n",
    "\n",
    "#Funzione che genera la media delle nuove bid in base al range dei prezzi di un prodotto su Google Shopping\n",
    "\n",
    "#Ho considerato i valori delle bids compresi tra 2 e 5 ed ho fatto in modo che il nuovo valore della bid fosse proporzionale al price.\n",
    "def bid_generator(OldMax,OldMin,NewMax,NewMin,OldValue):\n",
    "    OldRange = (OldMax - OldMin)  \n",
    "    NewRange = (NewMax - NewMin)  \n",
    "    NewValue = (((OldValue - OldMin) * NewRange) / OldRange) + NewMin\n",
    "    return NewValue\n",
    "\n",
    "#Funzione max\n",
    "def max_fun(datas):\n",
    "    max = datas[0].price\n",
    "    for i in range(len(datas)):\n",
    "        if datas[i].price > max:\n",
    "            max = datas[i].price\n",
    "    return max\n",
    "\n",
    "\n",
    "#Funzione min\n",
    "def min_fun(datas):\n",
    "    min = datas[0].price\n",
    "    for i in range(len(datas)):\n",
    "        if datas[i].price < min:\n",
    "            min = datas[i].price\n",
    "    return min\n",
    "\n",
    "#Funzione per fare scraping e prendere prodotto/competior/prezzi\n",
    "def scraping_Google(link_product):\n",
    "    chromedriver_autoinstaller.install()  # Check if the current version of chromedriver exists\n",
    "                                        # and if it doesn't exist, download it automatically,\n",
    "                                        # then add chromedriver to path\n",
    "    options = ChromeOptions()\n",
    "    options.add_argument('--no-sandbox')\n",
    "\n",
    "    driver = webdriver.Chrome(options=options)\n",
    "    driver.get(link_product)\n",
    "\n",
    "    accedi = driver.find_element(By.XPATH,'//*[@id=\"yDmH0d\"]/c-wiz/div/div/div/div[2]/div[1]/div[4]/div[1]/div[1]/form[2]/div/div/button/span')\n",
    "    accedi.click()\n",
    "\n",
    "    sleep(2)\n",
    "\n",
    "    products = driver.find_elements(By.CLASS_NAME,'KZmu8e')\n",
    "    competitors = driver.find_elements(By.CLASS_NAME,'E5ocAb')\n",
    "    prices = driver.find_elements(By.CLASS_NAME,'T14wmb')\n",
    "\n",
    "    return prices\n",
    "\n",
    "\n",
    "#len, indica il numero di prezzi da fare scraping\n",
    "def list_prices_bids(prices,len,var):\n",
    "    ncomp = namedtuple('Competitor', ['id', 'price','bid'])\n",
    "    datas = []\n",
    "\n",
    "    #for i in range(len(prices)):\n",
    "    for i in range(len):\n",
    "\n",
    "        \n",
    "        appoggio = prices[i].text\n",
    "        appoggio = appoggio.replace(\" €\",\"\")\n",
    "        appoggio = appoggio.replace(\",\",\".\")\n",
    "        if \" Ricondizionato\" in appoggio:\n",
    "            appoggio = appoggio.replace(\" Ricondizionato\",\"\")\n",
    "        if \" Usato\" in appoggio:\n",
    "            appoggio = appoggio.replace(\" Usato\",\"\")\n",
    "        if \"Usato\" in appoggio:\n",
    "            appoggio = appoggio.replace(\"Usato\",\"\")\n",
    "\n",
    " \n",
    "        appoggio = fix_sales_price(appoggio)\n",
    "\n",
    "        datas.append(ncomp(i,appoggio,1))\n",
    "\n",
    "  \n",
    "\n",
    "    datas[i] = datas[i]._replace(bid=round(1,2))\n",
    "    \n",
    "    return datas\n",
    "\n",
    "\n",
    "#Questa funzione serve per correggere lo scraping di alcuni prezzi che fanno crashare poichè c'è lo sconto e si stampano cosi 13.3434.23\n",
    "def fix_sales_price(price):\n",
    "    price = price.split('.')\n",
    "\n",
    "    price = price[0]+\".\"+price[1]\n",
    "\n",
    "    return round(float(price),2)\n",
    "\n",
    "\n",
    "#Funzione che mi scrive il dataset su file json\n",
    "def json_write(dataset,filename):\n",
    "    dumped = []\n",
    "    for elem in dataset:\n",
    "        dumped.append(json.dumps(elem._asdict()))\n",
    "\n",
    "    print(dumped)\n",
    "\n",
    "    # Directly from dictionary\n",
    "    with open(filename, 'w') as outfile:\n",
    "        json.dump(dumped, outfile)\n",
    "    \n"
   ]
  },
  {
   "cell_type": "code",
   "execution_count": 411,
   "metadata": {},
   "outputs": [],
   "source": [
    "link_tazze = 'https://www.google.it/search?q=tazza+calcio&sa=X&biw=1200&bih=853&tbm=shop&ei=2j6cZIfPKpWJxc8P_cSM2Ag&ved=0ahUKEwiHpNLwkeb_AhWVRPEDHX0iA4sQ4dUDCAg&uact=5&oq=tazza+calcio&gs_lcp=Cgtwcm9kdWN0cy1jYxADMgcIABAYEIAEMgYIABAWEB4yCAgAEBYQHhAYMggIABAWEB4QGDIICAAQFhAeEBgyCAgAEBYQHhAYMggIABAWEB4QGDIICAAQFhAeEBg6CAgAEIAEELADOgoIABAYEIAEELADOgkIABAeEBgQsAM6CwgAEB4QGBAPELADOgUIABCABDoHCAAQgAQQCjoKCAAQFhAeEBgQD1CVBliiDWCWDmgBcAB4AIABYYgB1gSSAQE3mAEAoAEBwAEByAEK&sclient=products-cc'\n",
    "link_cover = 'https://www.google.it/search?q=cover+iphone&sa=X&biw=1200&bih=853&tbm=shop&ei=fk-cZLjlLtT1sAfO-5ywDw&ved=0ahUKEwi4nIDgoeb_AhXUOuwKHc49B_YQ4dUDCAg&uact=5&oq=cover+iphone&gs_lcp=Cgtwcm9kdWN0cy1jYxADMgUIABCABDIFCAAQgAQyBQgAEIAEMgUIABCABDIFCAAQgAQyBQgAEIAEMgUIABCABDIFCAAQgAQyBQgAEIAEMgUIABCABDoKCAAQGBCABBCwAzoJCAAQCBAeELADOgkIABAeEBgQsAM6CwgAEAgQHhAYELADOgcIABCKBRBDUM0FWNEVYNkWaANwAHgAgAFXiAHHB5IBAjE0mAEAoAEBwAEByAEI&sclient=products-cc'\n",
    "link_lampade = 'https://www.google.it/search?q=lampade+per+scrivania+&hl=it&tbm=shop&sxsrf=AB5stBgJh3vJbyEdaJgzcryPtDf1yK4U1w%3A1688564728077&psb=1&ei=-HOlZMLxA-OMxc8PttOuwA0&ved=0ahUKEwjCza_m2ff_AhVjRvEDHbapC9gQ4dUDCAg&uact=5&oq=lampade+per+scrivania+&gs_lcp=Cgtwcm9kdWN0cy1jYxADMgcIABAYEIAEMgcIABAYEIAEMgcIABAYEIAEMgYIABAWEB4yBggAEBYQHjIICAAQFhAeEBgyCAgAEBYQHhAYMggIABAWEB4QGDIICAAQFhAeEBgyCggAEBYQHhAYEA86CggAEA0QgAQQsAM6DAgAEA0QGBCABBCwAzoLCAAQCBAeEA0QsAM6CwgAEB4QDRAYELADOg0IABAIEB4QDRAYELADOgkIABANEBgQgARQwQdY_g1g2BFoAHAAeACAAW-IAZAGkgEDNC40mAEAoAEBwAEByAEK&sclient=products-cc'\n",
    "link_zaini = \"https://www.google.it/search?tbm=shop&hl=it&psb=1&ved=2ahUKEwiYqcW2nISAAxVCIQYAHSaSD_oQu-kFegQIABAL&q=zaino+eastpak&oq=zaino+eastpak&gs_lcp=Cgtwcm9kdWN0cy1jYxADUABYAGAAaABwAHgAgAEAiAEAkgEAmAEA&sclient=products-cc\"\n",
    "link_xiami = \"https://www.google.com/search?q=Xiaomi+Redmi+Note+11S&sa=X&rlz=1C5CHFA_enIT1009IT1009&biw=1132&bih=996&tbm=shop&ei=j1CtZKGNMKuDxc8P29igcA&ved=0ahUKEwjhkJiU2YaAAxWrQfEDHVssCA4Q4dUDCAg&uact=5&oq=Xiaomi+Redmi+Note+11S&gs_lcp=Cgtwcm9kdWN0cy1jYxADMgUIABCABDIFCAAQgAQyBQgAEIAEMgUIABCABDIFCAAQgAQyBQgAEIAEMgUIABCABDIFCAAQgAQyBQgAEIAEMgUIABCABFCdBlidBmDQB2gAcAB4AIABygGIAZgCkgEFMS4wLjGYAQCgAQKgAQHAAQE&sclient=products-cc\"\n",
    "link_iphone13 = \"https://www.google.com/search?q=iphone+13+128+gb&sa=X&rlz=1C5CHFA_enIT1009IT1009&biw=1792&bih=996&tbm=shop&ei=1FOtZNeqAfGRxc8PqJmNyAI&ved=0ahUKEwjX5Pei3IaAAxXxSPEDHahMAykQ4dUDCAg&uact=5&oq=iphone+13+128+gb&gs_lcp=Cgtwcm9kdWN0cy1jYxADMgcIABCKBRBDMgUIABCABDIFCAAQgAQyBQgAEIAEMgUIABCABDIFCAAQgAQyBQgAEIAEMgcIABAYEIAEMgcIABAYEIAEMgcIABAYEIAEOgoIABCKBRCwAxBDOggIABCABBCwA1DQAljsEGCyEmgAcAB4AIABcIgB6wSSAQM3LjGYAQCgAQHAAQHIAQo&sclient=products-cc\"\n",
    "\n",
    "prices = scraping_Google(link_iphone13)\n",
    "datas = []\n",
    "datas.append(list_prices_bids(prices,30,0.3))\n",
    "datas.append(list_prices_bids(prices,30,0.6))\n",
    "datas.append(list_prices_bids(prices,30,0.9))\n",
    "\n"
   ]
  },
  {
   "cell_type": "code",
   "execution_count": 432,
   "metadata": {},
   "outputs": [
    {
     "data": {
      "text/plain": [
       "[Competitor(id=0, price=779.0, bid=1),\n",
       " Competitor(id=1, price=619.0, bid=1),\n",
       " Competitor(id=2, price=799.0, bid=1),\n",
       " Competitor(id=3, price=749.0, bid=1),\n",
       " Competitor(id=4, price=695.0, bid=1),\n",
       " Competitor(id=5, price=699.0, bid=1),\n",
       " Competitor(id=7, price=689.9, bid=1),\n",
       " Competitor(id=9, price=763.37, bid=1),\n",
       " Competitor(id=10, price=829.0, bid=1),\n",
       " Competitor(id=12, price=604.0, bid=1),\n",
       " Competitor(id=16, price=649.99, bid=1),\n",
       " Competitor(id=18, price=695.0, bid=1),\n",
       " Competitor(id=19, price=636.73, bid=1),\n",
       " Competitor(id=20, price=829.0, bid=1),\n",
       " Competitor(id=21, price=629.0, bid=1),\n",
       " Competitor(id=22, price=683.9, bid=1),\n",
       " Competitor(id=25, price=829.0, bid=1),\n",
       " Competitor(id=26, price=616.0, bid=1),\n",
       " Competitor(id=27, price=695.0, bid=1),\n",
       " Competitor(id=28, price=650.0, bid=1),\n",
       " Competitor(id=29, price=829.0, bid=1)]"
      ]
     },
     "execution_count": 432,
     "metadata": {},
     "output_type": "execute_result"
    }
   ],
   "source": [
    "datas[0]"
   ]
  },
  {
   "cell_type": "code",
   "execution_count": 429,
   "metadata": {},
   "outputs": [
    {
     "data": {
      "text/plain": [
       "Competitor(id=24, price=799.0, bid=1)"
      ]
     },
     "execution_count": 429,
     "metadata": {},
     "output_type": "execute_result"
    }
   ],
   "source": [
    "#Blocco di codice dove a mano levo gli outliers.\n",
    "\n",
    "datas[0].pop(16)"
   ]
  },
  {
   "cell_type": "code",
   "execution_count": 433,
   "metadata": {},
   "outputs": [],
   "source": [
    "#Per sistemare gli id dopo aver cancellato gli outliers\n",
    "for i in range(19):\n",
    "    datas[0][i] = datas[0][i]._replace(id=i)"
   ]
  },
  {
   "cell_type": "code",
   "execution_count": 434,
   "metadata": {},
   "outputs": [
    {
     "data": {
      "text/plain": [
       "[Competitor(id=0, price=779.0, bid=1),\n",
       " Competitor(id=1, price=619.0, bid=1),\n",
       " Competitor(id=2, price=799.0, bid=1),\n",
       " Competitor(id=3, price=749.0, bid=1),\n",
       " Competitor(id=4, price=695.0, bid=1),\n",
       " Competitor(id=5, price=699.0, bid=1),\n",
       " Competitor(id=6, price=689.9, bid=1),\n",
       " Competitor(id=7, price=763.37, bid=1),\n",
       " Competitor(id=8, price=829.0, bid=1),\n",
       " Competitor(id=9, price=604.0, bid=1),\n",
       " Competitor(id=10, price=649.99, bid=1),\n",
       " Competitor(id=11, price=695.0, bid=1),\n",
       " Competitor(id=12, price=636.73, bid=1),\n",
       " Competitor(id=13, price=829.0, bid=1),\n",
       " Competitor(id=14, price=629.0, bid=1),\n",
       " Competitor(id=15, price=683.9, bid=1),\n",
       " Competitor(id=16, price=829.0, bid=1),\n",
       " Competitor(id=17, price=616.0, bid=1),\n",
       " Competitor(id=18, price=695.0, bid=1)]"
      ]
     },
     "execution_count": 434,
     "metadata": {},
     "output_type": "execute_result"
    }
   ],
   "source": [
    "datas[0] = datas[0][:19]\n",
    "datas[0]"
   ]
  },
  {
   "cell_type": "code",
   "execution_count": 442,
   "metadata": {},
   "outputs": [],
   "source": [
    "#aggiungo le bid calcolatre tramite i nuovi range, MA con una certa deviazione standard.\n",
    "#for i in range(len(prices)):\n",
    "max = max_fun(datas[0])\n",
    "min = min_fun(datas[0])  \n",
    "for i in range(19):\n",
    "    mean_new_bid = bid_generator(max,min,5,1,datas[0][i].price)\n",
    "    new_bid = np.random.normal(mean_new_bid,0.9)\n",
    "    if new_bid < 0.5:\n",
    "        new_bid = 0.5\n",
    "    if new_bid > 5:\n",
    "        new_bid = 5\n",
    "    datas[0][i] = datas[0][i]._replace(bid=round(new_bid,2))\n"
   ]
  },
  {
   "cell_type": "code",
   "execution_count": 443,
   "metadata": {},
   "outputs": [
    {
     "data": {
      "text/plain": [
       "[Competitor(id=0, price=779.0, bid=4.33),\n",
       " Competitor(id=1, price=619.0, bid=3.12),\n",
       " Competitor(id=2, price=799.0, bid=3.6),\n",
       " Competitor(id=3, price=749.0, bid=4.96),\n",
       " Competitor(id=4, price=695.0, bid=2.5),\n",
       " Competitor(id=5, price=699.0, bid=2.17),\n",
       " Competitor(id=6, price=689.9, bid=2.92),\n",
       " Competitor(id=7, price=763.37, bid=3.68),\n",
       " Competitor(id=8, price=829.0, bid=5),\n",
       " Competitor(id=9, price=604.0, bid=1.1),\n",
       " Competitor(id=10, price=649.99, bid=1.19),\n",
       " Competitor(id=11, price=695.0, bid=2.96),\n",
       " Competitor(id=12, price=636.73, bid=1.87),\n",
       " Competitor(id=13, price=829.0, bid=5),\n",
       " Competitor(id=14, price=629.0, bid=2.05),\n",
       " Competitor(id=15, price=683.9, bid=1.63),\n",
       " Competitor(id=16, price=829.0, bid=5),\n",
       " Competitor(id=17, price=616.0, bid=1.88),\n",
       " Competitor(id=18, price=695.0, bid=3.07)]"
      ]
     },
     "execution_count": 443,
     "metadata": {},
     "output_type": "execute_result"
    }
   ],
   "source": [
    "datas[0]"
   ]
  },
  {
   "cell_type": "code",
   "execution_count": 444,
   "metadata": {},
   "outputs": [
    {
     "name": "stdout",
     "output_type": "stream",
     "text": [
      "['{\"id\": 0, \"price\": 779.0, \"bid\": 4.33}', '{\"id\": 1, \"price\": 619.0, \"bid\": 3.12}', '{\"id\": 2, \"price\": 799.0, \"bid\": 3.6}', '{\"id\": 3, \"price\": 749.0, \"bid\": 4.96}', '{\"id\": 4, \"price\": 695.0, \"bid\": 2.5}', '{\"id\": 5, \"price\": 699.0, \"bid\": 2.17}', '{\"id\": 6, \"price\": 689.9, \"bid\": 2.92}', '{\"id\": 7, \"price\": 763.37, \"bid\": 3.68}', '{\"id\": 8, \"price\": 829.0, \"bid\": 5}', '{\"id\": 9, \"price\": 604.0, \"bid\": 1.1}', '{\"id\": 10, \"price\": 649.99, \"bid\": 1.19}', '{\"id\": 11, \"price\": 695.0, \"bid\": 2.96}', '{\"id\": 12, \"price\": 636.73, \"bid\": 1.87}', '{\"id\": 13, \"price\": 829.0, \"bid\": 5}', '{\"id\": 14, \"price\": 629.0, \"bid\": 2.05}', '{\"id\": 15, \"price\": 683.9, \"bid\": 1.63}', '{\"id\": 16, \"price\": 829.0, \"bid\": 5}', '{\"id\": 17, \"price\": 616.0, \"bid\": 1.88}', '{\"id\": 18, \"price\": 695.0, \"bid\": 3.07}']\n"
     ]
    }
   ],
   "source": [
    "json_write(datas[0],\"ipohne13_0.9.json\")\n"
   ]
  },
  {
   "cell_type": "code",
   "execution_count": 35,
   "metadata": {},
   "outputs": [],
   "source": []
  }
 ],
 "metadata": {
  "kernelspec": {
   "display_name": "Python 3.9.6 64-bit",
   "language": "python",
   "name": "python3"
  },
  "language_info": {
   "codemirror_mode": {
    "name": "ipython",
    "version": 3
   },
   "file_extension": ".py",
   "mimetype": "text/x-python",
   "name": "python",
   "nbconvert_exporter": "python",
   "pygments_lexer": "ipython3",
   "version": "3.9.6"
  },
  "orig_nbformat": 4,
  "vscode": {
   "interpreter": {
    "hash": "31f2aee4e71d21fbe5cf8b01ff0e069b9275f58929596ceb00d14d90e3e16cd6"
   }
  }
 },
 "nbformat": 4,
 "nbformat_minor": 2
}
